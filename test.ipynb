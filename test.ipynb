{
 "cells": [
  {
   "cell_type": "code",
   "execution_count": 1,
   "metadata": {},
   "outputs": [],
   "source": [
    "import numpy as np\n",
    "import pandas as pd\n",
    "import seaborn as sns\n",
    "COLORS = sns.color_palette()\n",
    "import matplotlib.pylab as plt\n",
    "%matplotlib inline\n",
    "from sklearn.preprocessing import MinMaxScaler\n",
    "from sklearn.model_selection import train_test_split\n",
    "import tensorflow as tf"
   ]
  },
  {
   "cell_type": "code",
   "execution_count": 2,
   "metadata": {},
   "outputs": [],
   "source": [
    "def plot_bar(df, xlabel, ylabel, title, color=COLORS[0], figsize=(20,10), rotation=45):\n",
    "    plot = df.plot(kind='bar',color=color,figsize=figsize)\n",
    "    plot.set_xlabel(xlabel,fontsize=11)\n",
    "    plot.set_ylabel(ylabel,fontsize=11)\n",
    "    plot.set_title(title,fontsize=13)\n",
    "    plot.set_xticklabels(labels=df.index, rotation=rotation)"
   ]
  },
  {
   "cell_type": "code",
   "execution_count": 3,
   "metadata": {},
   "outputs": [
    {
     "data": {
      "text/html": [
       "<div>\n",
       "<style scoped>\n",
       "    .dataframe tbody tr th:only-of-type {\n",
       "        vertical-align: middle;\n",
       "    }\n",
       "\n",
       "    .dataframe tbody tr th {\n",
       "        vertical-align: top;\n",
       "    }\n",
       "\n",
       "    .dataframe thead th {\n",
       "        text-align: right;\n",
       "    }\n",
       "</style>\n",
       "<table border=\"1\" class=\"dataframe\">\n",
       "  <thead>\n",
       "    <tr style=\"text-align: right;\">\n",
       "      <th></th>\n",
       "      <th>Unnamed: 0</th>\n",
       "      <th>InvoiceNo</th>\n",
       "      <th>StockCode</th>\n",
       "      <th>Description</th>\n",
       "      <th>Quantity</th>\n",
       "      <th>InvoiceDate</th>\n",
       "      <th>UnitPrice</th>\n",
       "      <th>CustomerID</th>\n",
       "      <th>Country</th>\n",
       "      <th>CheckoutPrice</th>\n",
       "    </tr>\n",
       "  </thead>\n",
       "  <tbody>\n",
       "    <tr>\n",
       "      <td>0</td>\n",
       "      <td>0</td>\n",
       "      <td>536365</td>\n",
       "      <td>85123A</td>\n",
       "      <td>WHITE HANGING HEART T-LIGHT HOLDER</td>\n",
       "      <td>6</td>\n",
       "      <td>2010-12-01 08:26:00</td>\n",
       "      <td>2.55</td>\n",
       "      <td>17850</td>\n",
       "      <td>United Kingdom</td>\n",
       "      <td>15.30</td>\n",
       "    </tr>\n",
       "    <tr>\n",
       "      <td>1</td>\n",
       "      <td>1</td>\n",
       "      <td>536365</td>\n",
       "      <td>71053</td>\n",
       "      <td>WHITE METAL LANTERN</td>\n",
       "      <td>6</td>\n",
       "      <td>2010-12-01 08:26:00</td>\n",
       "      <td>3.39</td>\n",
       "      <td>17850</td>\n",
       "      <td>United Kingdom</td>\n",
       "      <td>20.34</td>\n",
       "    </tr>\n",
       "    <tr>\n",
       "      <td>2</td>\n",
       "      <td>2</td>\n",
       "      <td>536365</td>\n",
       "      <td>84406B</td>\n",
       "      <td>CREAM CUPID HEARTS COAT HANGER</td>\n",
       "      <td>8</td>\n",
       "      <td>2010-12-01 08:26:00</td>\n",
       "      <td>2.75</td>\n",
       "      <td>17850</td>\n",
       "      <td>United Kingdom</td>\n",
       "      <td>22.00</td>\n",
       "    </tr>\n",
       "    <tr>\n",
       "      <td>3</td>\n",
       "      <td>3</td>\n",
       "      <td>536365</td>\n",
       "      <td>84029G</td>\n",
       "      <td>KNITTED UNION FLAG HOT WATER BOTTLE</td>\n",
       "      <td>6</td>\n",
       "      <td>2010-12-01 08:26:00</td>\n",
       "      <td>3.39</td>\n",
       "      <td>17850</td>\n",
       "      <td>United Kingdom</td>\n",
       "      <td>20.34</td>\n",
       "    </tr>\n",
       "    <tr>\n",
       "      <td>4</td>\n",
       "      <td>4</td>\n",
       "      <td>536365</td>\n",
       "      <td>84029E</td>\n",
       "      <td>RED WOOLLY HOTTIE WHITE HEART.</td>\n",
       "      <td>6</td>\n",
       "      <td>2010-12-01 08:26:00</td>\n",
       "      <td>3.39</td>\n",
       "      <td>17850</td>\n",
       "      <td>United Kingdom</td>\n",
       "      <td>20.34</td>\n",
       "    </tr>\n",
       "  </tbody>\n",
       "</table>\n",
       "</div>"
      ],
      "text/plain": [
       "   Unnamed: 0  InvoiceNo StockCode                          Description  \\\n",
       "0           0     536365    85123A   WHITE HANGING HEART T-LIGHT HOLDER   \n",
       "1           1     536365     71053                  WHITE METAL LANTERN   \n",
       "2           2     536365    84406B       CREAM CUPID HEARTS COAT HANGER   \n",
       "3           3     536365    84029G  KNITTED UNION FLAG HOT WATER BOTTLE   \n",
       "4           4     536365    84029E       RED WOOLLY HOTTIE WHITE HEART.   \n",
       "\n",
       "   Quantity         InvoiceDate  UnitPrice  CustomerID         Country  \\\n",
       "0         6 2010-12-01 08:26:00       2.55       17850  United Kingdom   \n",
       "1         6 2010-12-01 08:26:00       3.39       17850  United Kingdom   \n",
       "2         8 2010-12-01 08:26:00       2.75       17850  United Kingdom   \n",
       "3         6 2010-12-01 08:26:00       3.39       17850  United Kingdom   \n",
       "4         6 2010-12-01 08:26:00       3.39       17850  United Kingdom   \n",
       "\n",
       "   CheckoutPrice  \n",
       "0          15.30  \n",
       "1          20.34  \n",
       "2          22.00  \n",
       "3          20.34  \n",
       "4          20.34  "
      ]
     },
     "execution_count": 3,
     "metadata": {},
     "output_type": "execute_result"
    }
   ],
   "source": [
    "dtypes = {\n",
    "    'UnitPrice' : np.float32,\n",
    "    'CustomerID' : np.int32,\n",
    "    'Quantity' : np.int32\n",
    "}\n",
    "retail = pd.read_csv('./OnlineRetailClean.csv', dtype= dtypes)\n",
    "retail['InvoiceDate'] = pd.to_datetime(retail['InvoiceDate'], infer_datetime_format=True)\n",
    "retail.head()"
   ]
  },
  {
   "cell_type": "code",
   "execution_count": 4,
   "metadata": {},
   "outputs": [],
   "source": [
    "ranks=retail.groupby('CustomerID').sum()['CheckoutPrice'].sort_values( ascending=False)"
   ]
  },
  {
   "cell_type": "code",
   "execution_count": 5,
   "metadata": {},
   "outputs": [],
   "source": [
    "ranks=ranks.reset_index()\n",
    "member=ranks.shape[0]"
   ]
  },
  {
   "cell_type": "code",
   "execution_count": 6,
   "metadata": {},
   "outputs": [
    {
     "name": "stdout",
     "output_type": "stream",
     "text": [
      "8911407.904\n"
     ]
    },
    {
     "data": {
      "text/plain": [
       "89114.07904"
      ]
     },
     "execution_count": 6,
     "metadata": {},
     "output_type": "execute_result"
    }
   ],
   "source": [
    "total = ranks['CheckoutPrice'].sum()\n",
    "print(total)\n",
    "total/ 100"
   ]
  },
  {
   "cell_type": "code",
   "execution_count": 7,
   "metadata": {},
   "outputs": [
    {
     "data": {
      "text/html": [
       "<div>\n",
       "<style scoped>\n",
       "    .dataframe tbody tr th:only-of-type {\n",
       "        vertical-align: middle;\n",
       "    }\n",
       "\n",
       "    .dataframe tbody tr th {\n",
       "        vertical-align: top;\n",
       "    }\n",
       "\n",
       "    .dataframe thead th {\n",
       "        text-align: right;\n",
       "    }\n",
       "</style>\n",
       "<table border=\"1\" class=\"dataframe\">\n",
       "  <thead>\n",
       "    <tr style=\"text-align: right;\">\n",
       "      <th></th>\n",
       "      <th>CustomerID</th>\n",
       "      <th>CheckoutPrice</th>\n",
       "      <th>rank</th>\n",
       "    </tr>\n",
       "  </thead>\n",
       "  <tbody>\n",
       "    <tr>\n",
       "      <td>0</td>\n",
       "      <td>14646</td>\n",
       "      <td>280206.02</td>\n",
       "      <td>1</td>\n",
       "    </tr>\n",
       "    <tr>\n",
       "      <td>1</td>\n",
       "      <td>18102</td>\n",
       "      <td>259657.30</td>\n",
       "      <td>1</td>\n",
       "    </tr>\n",
       "    <tr>\n",
       "      <td>2</td>\n",
       "      <td>17450</td>\n",
       "      <td>194550.79</td>\n",
       "      <td>1</td>\n",
       "    </tr>\n",
       "    <tr>\n",
       "      <td>3</td>\n",
       "      <td>16446</td>\n",
       "      <td>168472.50</td>\n",
       "      <td>1</td>\n",
       "    </tr>\n",
       "    <tr>\n",
       "      <td>4</td>\n",
       "      <td>14911</td>\n",
       "      <td>143825.06</td>\n",
       "      <td>1</td>\n",
       "    </tr>\n",
       "    <tr>\n",
       "      <td>...</td>\n",
       "      <td>...</td>\n",
       "      <td>...</td>\n",
       "      <td>...</td>\n",
       "    </tr>\n",
       "    <tr>\n",
       "      <td>4333</td>\n",
       "      <td>16878</td>\n",
       "      <td>13.30</td>\n",
       "      <td>5</td>\n",
       "    </tr>\n",
       "    <tr>\n",
       "      <td>4334</td>\n",
       "      <td>17956</td>\n",
       "      <td>12.75</td>\n",
       "      <td>5</td>\n",
       "    </tr>\n",
       "    <tr>\n",
       "      <td>4335</td>\n",
       "      <td>16454</td>\n",
       "      <td>6.90</td>\n",
       "      <td>5</td>\n",
       "    </tr>\n",
       "    <tr>\n",
       "      <td>4336</td>\n",
       "      <td>14792</td>\n",
       "      <td>6.20</td>\n",
       "      <td>5</td>\n",
       "    </tr>\n",
       "    <tr>\n",
       "      <td>4337</td>\n",
       "      <td>16738</td>\n",
       "      <td>3.75</td>\n",
       "      <td>5</td>\n",
       "    </tr>\n",
       "  </tbody>\n",
       "</table>\n",
       "<p>4338 rows × 3 columns</p>\n",
       "</div>"
      ],
      "text/plain": [
       "      CustomerID  CheckoutPrice  rank\n",
       "0          14646      280206.02     1\n",
       "1          18102      259657.30     1\n",
       "2          17450      194550.79     1\n",
       "3          16446      168472.50     1\n",
       "4          14911      143825.06     1\n",
       "...          ...            ...   ...\n",
       "4333       16878          13.30     5\n",
       "4334       17956          12.75     5\n",
       "4335       16454           6.90     5\n",
       "4336       14792           6.20     5\n",
       "4337       16738           3.75     5\n",
       "\n",
       "[4338 rows x 3 columns]"
      ]
     },
     "execution_count": 7,
     "metadata": {},
     "output_type": "execute_result"
    }
   ],
   "source": [
    "# Svip = 1, vip =2, Gold =3, silver =4, family= 5\n",
    "def add_rank(x):\n",
    "    if x >= total * 0.005:\n",
    "        return 1\n",
    "    elif x >= total * 0.008:\n",
    "        return 2\n",
    "    elif x >= total * 0.0001:\n",
    "        return 3\n",
    "    elif x >= total * 0.00001:\n",
    "        return 4\n",
    "    else: \n",
    "        return 5\n",
    "\n",
    "ranks['rank'] = ranks['CheckoutPrice'].apply(add_rank)\n",
    "ranks"
   ]
  },
  {
   "cell_type": "code",
   "execution_count": 8,
   "metadata": {},
   "outputs": [
    {
     "data": {
      "text/plain": [
       "4    2420\n",
       "3    1781\n",
       "5     117\n",
       "1      20\n",
       "Name: rank, dtype: int64"
      ]
     },
     "execution_count": 8,
     "metadata": {},
     "output_type": "execute_result"
    }
   ],
   "source": [
    "ranks['rank'].value_counts()"
   ]
  },
  {
   "cell_type": "code",
   "execution_count": 9,
   "metadata": {},
   "outputs": [],
   "source": [
    "ranks.to_csv('./OnlineTest.csv', index = False)"
   ]
  },
  {
   "cell_type": "code",
   "execution_count": 10,
   "metadata": {},
   "outputs": [],
   "source": [
    "# plt.scatter( vip['CheckoutPrice'], vip['CustomerID'], label = \"data\")\n",
    "\n",
    "# plt.legend(loc = \"best\")\n",
    "# plt.xlabel('CheckoutPrice')\n",
    "# # plt.xlim(left =0 ,right=10000)\n",
    "# plt.ylabel('CustomerID')\n",
    "# plt.show()"
   ]
  },
  {
   "cell_type": "code",
   "execution_count": 11,
   "metadata": {},
   "outputs": [
    {
     "data": {
      "text/html": [
       "<div>\n",
       "<style scoped>\n",
       "    .dataframe tbody tr th:only-of-type {\n",
       "        vertical-align: middle;\n",
       "    }\n",
       "\n",
       "    .dataframe tbody tr th {\n",
       "        vertical-align: top;\n",
       "    }\n",
       "\n",
       "    .dataframe thead th {\n",
       "        text-align: right;\n",
       "    }\n",
       "</style>\n",
       "<table border=\"1\" class=\"dataframe\">\n",
       "  <thead>\n",
       "    <tr style=\"text-align: right;\">\n",
       "      <th></th>\n",
       "      <th>CustomerID</th>\n",
       "      <th>CheckoutPrice</th>\n",
       "      <th>rank</th>\n",
       "    </tr>\n",
       "  </thead>\n",
       "  <tbody>\n",
       "    <tr>\n",
       "      <td>0</td>\n",
       "      <td>14646</td>\n",
       "      <td>280206.02</td>\n",
       "      <td>1</td>\n",
       "    </tr>\n",
       "    <tr>\n",
       "      <td>1</td>\n",
       "      <td>18102</td>\n",
       "      <td>259657.30</td>\n",
       "      <td>1</td>\n",
       "    </tr>\n",
       "    <tr>\n",
       "      <td>2</td>\n",
       "      <td>17450</td>\n",
       "      <td>194550.79</td>\n",
       "      <td>1</td>\n",
       "    </tr>\n",
       "    <tr>\n",
       "      <td>3</td>\n",
       "      <td>16446</td>\n",
       "      <td>168472.50</td>\n",
       "      <td>1</td>\n",
       "    </tr>\n",
       "    <tr>\n",
       "      <td>4</td>\n",
       "      <td>14911</td>\n",
       "      <td>143825.06</td>\n",
       "      <td>1</td>\n",
       "    </tr>\n",
       "    <tr>\n",
       "      <td>...</td>\n",
       "      <td>...</td>\n",
       "      <td>...</td>\n",
       "      <td>...</td>\n",
       "    </tr>\n",
       "    <tr>\n",
       "      <td>4333</td>\n",
       "      <td>16878</td>\n",
       "      <td>13.30</td>\n",
       "      <td>5</td>\n",
       "    </tr>\n",
       "    <tr>\n",
       "      <td>4334</td>\n",
       "      <td>17956</td>\n",
       "      <td>12.75</td>\n",
       "      <td>5</td>\n",
       "    </tr>\n",
       "    <tr>\n",
       "      <td>4335</td>\n",
       "      <td>16454</td>\n",
       "      <td>6.90</td>\n",
       "      <td>5</td>\n",
       "    </tr>\n",
       "    <tr>\n",
       "      <td>4336</td>\n",
       "      <td>14792</td>\n",
       "      <td>6.20</td>\n",
       "      <td>5</td>\n",
       "    </tr>\n",
       "    <tr>\n",
       "      <td>4337</td>\n",
       "      <td>16738</td>\n",
       "      <td>3.75</td>\n",
       "      <td>5</td>\n",
       "    </tr>\n",
       "  </tbody>\n",
       "</table>\n",
       "<p>4338 rows × 3 columns</p>\n",
       "</div>"
      ],
      "text/plain": [
       "      CustomerID  CheckoutPrice  rank\n",
       "0          14646      280206.02     1\n",
       "1          18102      259657.30     1\n",
       "2          17450      194550.79     1\n",
       "3          16446      168472.50     1\n",
       "4          14911      143825.06     1\n",
       "...          ...            ...   ...\n",
       "4333       16878          13.30     5\n",
       "4334       17956          12.75     5\n",
       "4335       16454           6.90     5\n",
       "4336       14792           6.20     5\n",
       "4337       16738           3.75     5\n",
       "\n",
       "[4338 rows x 3 columns]"
      ]
     },
     "execution_count": 11,
     "metadata": {},
     "output_type": "execute_result"
    }
   ],
   "source": [
    "df = pd.read_csv('./OnlineTest.csv')\n",
    "df"
   ]
  },
  {
   "cell_type": "code",
   "execution_count": 12,
   "metadata": {},
   "outputs": [],
   "source": [
    "minmax = MinMaxScaler()"
   ]
  },
  {
   "cell_type": "code",
   "execution_count": 13,
   "metadata": {},
   "outputs": [],
   "source": [
    "xy = np.array(df.iloc[:, [1]], dtype=np.float32)\n",
    "yx = np.array(df.iloc[:, [-1]], dtype=np.float32)"
   ]
  },
  {
   "cell_type": "code",
   "execution_count": 14,
   "metadata": {},
   "outputs": [],
   "source": [
    "xy = minmax.fit_transform(xy)\n",
    "yx = minmax.fit_transform(yx)"
   ]
  },
  {
   "cell_type": "code",
   "execution_count": 15,
   "metadata": {},
   "outputs": [],
   "source": [
    "model = tf.global_variables_initializer()"
   ]
  },
  {
   "cell_type": "code",
   "execution_count": 16,
   "metadata": {},
   "outputs": [],
   "source": [
    "X_train, X_test, y_train, y_test = train_test_split(xy,yx,random_state=0)"
   ]
  },
  {
   "cell_type": "code",
   "execution_count": 17,
   "metadata": {},
   "outputs": [
    {
     "data": {
      "text/plain": [
       "(3253, 1)"
      ]
     },
     "execution_count": 17,
     "metadata": {},
     "output_type": "execute_result"
    }
   ],
   "source": [
    "X_train.shape"
   ]
  },
  {
   "cell_type": "code",
   "execution_count": 18,
   "metadata": {},
   "outputs": [
    {
     "data": {
      "text/plain": [
       "(3253, 1)"
      ]
     },
     "execution_count": 18,
     "metadata": {},
     "output_type": "execute_result"
    }
   ],
   "source": [
    "y_train.shape"
   ]
  },
  {
   "cell_type": "code",
   "execution_count": 47,
   "metadata": {},
   "outputs": [],
   "source": [
    "# 플레이스 홀더를 설정합니다.\n",
    "X = tf.placeholder(tf.float32, shape=[None, 1])\n",
    "Y = tf.placeholder(tf.float32, shape=[None, 1])"
   ]
  },
  {
   "cell_type": "code",
   "execution_count": 48,
   "metadata": {},
   "outputs": [],
   "source": [
    "# y = wX+b\n",
    "W = tf.Variable(tf.random_normal([1, 1]), name=\"weight\")\n",
    "b = tf.Variable(tf.random_normal([1]), name=\"bias\")"
   ]
  },
  {
   "cell_type": "code",
   "execution_count": 49,
   "metadata": {},
   "outputs": [],
   "source": [
    "# 가설을 설정합니다. y = wX+b\n",
    "# tensorflow 행렬곱 합수 matmul\n",
    "hypothesis = tf.matmul(X, W) + b\n",
    "# hypothesis = tf.nn.softmax(tf.matmul(X, W) + b)"
   ]
  },
  {
   "cell_type": "code",
   "execution_count": 50,
   "metadata": {},
   "outputs": [],
   "source": [
    "# 비용 함수를 설정합니다. (예측값 - 실제값)제곱의 평균\n",
    "# reduce_mean은 특정 차원을 제거하고 평균을 구한다.\n",
    "cost = tf.reduce_mean(tf.square(hypothesis - Y))\n",
    "correct_prediction = tf.equal(tf.argmax(hypothesis,1),tf.argmax(Y,1))\n",
    "accuracy = tf.reduce_mean(tf.cast(correct_prediction,tf.float32))\n",
    "mae = tf.reduce_mean(tf.abs(hypothesis - Y))"
   ]
  },
  {
   "cell_type": "code",
   "execution_count": 51,
   "metadata": {},
   "outputs": [],
   "source": [
    "# 최적화 함수를 설정합니다.\n",
    "optimizer = tf.train.MomentumOptimizer(learning_rate=0.0005,momentum=0.9)\n",
    "train = optimizer.minimize(mae)"
   ]
  },
  {
   "cell_type": "code",
   "execution_count": 52,
   "metadata": {},
   "outputs": [],
   "source": [
    "# 세션을 생성합니다.\n",
    "sess = tf.Session()"
   ]
  },
  {
   "cell_type": "code",
   "execution_count": 53,
   "metadata": {},
   "outputs": [],
   "source": [
    "# 글로벌 변수를 초기화합니다.\n",
    "sess.run(tf.global_variables_initializer())"
   ]
  },
  {
   "cell_type": "code",
   "execution_count": 54,
   "metadata": {},
   "outputs": [
    {
     "name": "stdout",
     "output_type": "stream",
     "text": [
      "# 0  등급차이:  2.5945966\n",
      "- 등급:  [-1.9004954]\n",
      "# 1000  등급차이:  0.1184401\n",
      "- 등급:  [0.79785824]\n",
      "# 2000  등급차이:  0.118255615\n",
      "- 등급:  [0.7964765]\n",
      "# 3000  등급차이:  0.11807132\n",
      "- 등급:  [0.7950955]\n",
      "# 4000  등급차이:  0.11788721\n",
      "- 등급:  [0.7937166]\n",
      "# 5000  등급차이:  0.11770305\n",
      "- 등급:  [0.7923376]\n",
      "# 6000  등급차이:  0.117518954\n",
      "- 등급:  [0.79095894]\n",
      "# 7000  등급차이:  0.117334865\n",
      "- 등급:  [0.7895795]\n",
      "# 8000  등급차이:  0.117150724\n",
      "- 등급:  [0.78820086]\n",
      "# 9000  등급차이:  0.116966635\n",
      "- 등급:  [0.7868221]\n",
      "# 10000  등급차이:  0.11678256\n",
      "- 등급:  [0.7854435]\n",
      "# 11000  등급차이:  0.11659839\n",
      "- 등급:  [0.7840642]\n",
      "# 12000  등급차이:  0.116414346\n",
      "- 등급:  [0.78268546]\n",
      "# 13000  등급차이:  0.11623026\n",
      "- 등급:  [0.78130656]\n",
      "# 14000  등급차이:  0.116046146\n",
      "- 등급:  [0.7799275]\n",
      "# 15000  등급차이:  0.11586206\n",
      "- 등급:  [0.7785486]\n",
      "# 16000  등급차이:  0.115677975\n",
      "- 등급:  [0.7771698]\n",
      "# 17000  등급차이:  0.115493834\n",
      "- 등급:  [0.77579117]\n",
      "# 18000  등급차이:  0.115309745\n",
      "- 등급:  [0.77441174]\n",
      "# 19000  등급차이:  0.1151256\n",
      "- 등급:  [0.7730332]\n",
      "# 20000  등급차이:  0.11494154\n",
      "- 등급:  [0.771654]\n",
      "# 21000  등급차이:  0.1147574\n",
      "- 등급:  [0.77027524]\n",
      "# 22000  등급차이:  0.1145733\n",
      "- 등급:  [0.7688962]\n",
      "# 23000  등급차이:  0.11438923\n",
      "- 등급:  [0.76751727]\n",
      "# 24000  등급차이:  0.11420511\n",
      "- 등급:  [0.7661384]\n",
      "# 25000  등급차이:  0.11402098\n",
      "- 등급:  [0.7647592]\n",
      "# 26000  등급차이:  0.11383691\n",
      "- 등급:  [0.7633805]\n",
      "# 27000  등급차이:  0.11365278\n",
      "- 등급:  [0.7620016]\n",
      "# 28000  등급차이:  0.11346869\n",
      "- 등급:  [0.760623]\n",
      "# 29000  등급차이:  0.11328459\n",
      "- 등급:  [0.75924355]\n",
      "# 30000  등급차이:  0.11310044\n",
      "- 등급:  [0.75786453]\n",
      "# 31000  등급차이:  0.112916365\n",
      "- 등급:  [0.7564857]\n",
      "# 32000  등급차이:  0.1127323\n",
      "- 등급:  [0.7551071]\n",
      "# 33000  등급차이:  0.11254821\n",
      "- 등급:  [0.7537281]\n",
      "# 34000  등급차이:  0.112364024\n",
      "- 등급:  [0.75235]\n",
      "# 35000  등급차이:  0.11232768\n",
      "- 등급:  [0.7501527]\n",
      "# 36000  등급차이:  0.11203626\n",
      "- 등급:  [0.7494879]\n",
      "# 37000  등급차이:  0.111854866\n",
      "- 등급:  [0.748201]\n",
      "# 38000  등급차이:  0.11172967\n",
      "- 등급:  [0.7466052]\n",
      "# 39000  등급차이:  0.111516036\n",
      "- 등급:  [0.74554664]\n",
      "# 40000  등급차이:  0.11135545\n",
      "- 등급:  [0.7442087]\n",
      "# 41000  등급차이:  0.11119495\n",
      "- 등급:  [0.74287033]\n",
      "# 42000  등급차이:  0.111034416\n",
      "- 등급:  [0.7415319]\n",
      "# 43000  등급차이:  0.110873885\n",
      "- 등급:  [0.74019486]\n",
      "# 44000  등급차이:  0.11071339\n",
      "- 등급:  [0.7388577]\n",
      "# 45000  등급차이:  0.11055283\n",
      "- 등급:  [0.73752]\n",
      "# 46000  등급차이:  0.11039225\n",
      "- 등급:  [0.73618084]\n",
      "# 47000  등급차이:  0.11023167\n",
      "- 등급:  [0.7348425]\n",
      "# 48000  등급차이:  0.110071026\n",
      "- 등급:  [0.7335041]\n",
      "# 49000  등급차이:  0.10991046\n",
      "- 등급:  [0.73216605]\n",
      "# 50000  등급차이:  0.10974983\n",
      "- 등급:  [0.73082733]\n",
      "# 51000  등급차이:  0.10958925\n",
      "- 등급:  [0.7294892]\n",
      "# 52000  등급차이:  0.109428674\n",
      "- 등급:  [0.7281505]\n",
      "# 53000  등급차이:  0.109268054\n",
      "- 등급:  [0.72681254]\n",
      "# 54000  등급차이:  0.109107554\n",
      "- 등급:  [0.72547454]\n",
      "# 55000  등급차이:  0.10894714\n",
      "- 등급:  [0.7241374]\n",
      "# 56000  등급차이:  0.108786695\n",
      "- 등급:  [0.72280085]\n",
      "# 57000  등급차이:  0.10862625\n",
      "- 등급:  [0.7214641]\n",
      "# 58000  등급차이:  0.10846586\n",
      "- 등급:  [0.72012687]\n",
      "# 59000  등급차이:  0.108305395\n",
      "- 등급:  [0.7187901]\n",
      "# 60000  등급차이:  0.10814497\n",
      "- 등급:  [0.7174529]\n",
      "# 61000  등급차이:  0.10798458\n",
      "- 등급:  [0.7161161]\n",
      "# 62000  등급차이:  0.10782412\n",
      "- 등급:  [0.71477884]\n",
      "# 63000  등급차이:  0.10769099\n",
      "- 등급:  [0.7135611]\n",
      "# 64000  등급차이:  0.1075633\n",
      "- 등급:  [0.7123677]\n",
      "# 65000  등급차이:  0.10743563\n",
      "- 등급:  [0.71117413]\n",
      "# 66000  등급차이:  0.10730792\n",
      "- 등급:  [0.7099807]\n",
      "# 67000  등급차이:  0.10718027\n",
      "- 등급:  [0.70878756]\n",
      "# 68000  등급차이:  0.10705258\n",
      "- 등급:  [0.707594]\n",
      "# 69000  등급차이:  0.106924966\n",
      "- 등급:  [0.7064006]\n",
      "# 70000  등급차이:  0.10679725\n",
      "- 등급:  [0.7052071]\n",
      "# 71000  등급차이:  0.10666957\n",
      "- 등급:  [0.70401376]\n",
      "# 72000  등급차이:  0.1065419\n",
      "- 등급:  [0.70282054]\n",
      "# 73000  등급차이:  0.106414184\n",
      "- 등급:  [0.7016267]\n",
      "# 74000  등급차이:  0.10628657\n",
      "- 등급:  [0.7004337]\n",
      "# 75000  등급차이:  0.10615881\n",
      "- 등급:  [0.6992399]\n",
      "# 76000  등급차이:  0.106046714\n",
      "- 등급:  [0.6981224]\n",
      "# 77000  등급차이:  0.10593969\n",
      "- 등급:  [0.69703007]\n",
      "# 78000  등급차이:  0.105832756\n",
      "- 등급:  [0.6959383]\n",
      "# 79000  등급차이:  0.10572579\n",
      "- 등급:  [0.69484645]\n",
      "# 80000  등급차이:  0.105618834\n",
      "- 등급:  [0.6937537]\n",
      "# 81000  등급차이:  0.10551185\n",
      "- 등급:  [0.6926616]\n",
      "# 82000  등급차이:  0.10540485\n",
      "- 등급:  [0.6915698]\n",
      "# 83000  등급차이:  0.1053061\n",
      "- 등급:  [0.6905223]\n",
      "# 84000  등급차이:  0.105215296\n",
      "- 등급:  [0.68951464]\n",
      "# 85000  등급차이:  0.1051245\n",
      "- 등급:  [0.688507]\n",
      "# 86000  등급차이:  0.10503366\n",
      "- 등급:  [0.6875001]\n",
      "# 87000  등급차이:  0.10494282\n",
      "- 등급:  [0.68649185]\n",
      "# 88000  등급차이:  0.10485202\n",
      "- 등급:  [0.6854843]\n",
      "# 89000  등급차이:  0.1047612\n",
      "- 등급:  [0.6844766]\n",
      "# 90000  등급차이:  0.104670346\n",
      "- 등급:  [0.6834692]\n",
      "# 91000  등급차이:  0.10457949\n",
      "- 등급:  [0.6824614]\n",
      "# 92000  등급차이:  0.10448875\n",
      "- 등급:  [0.6814537]\n",
      "# 93000  등급차이:  0.10439788\n",
      "- 등급:  [0.68044674]\n",
      "# 94000  등급차이:  0.10430705\n",
      "- 등급:  [0.67943835]\n",
      "# 95000  등급차이:  0.10421626\n",
      "- 등급:  [0.67843086]\n",
      "# 96000  등급차이:  0.10412539\n",
      "- 등급:  [0.6774233]\n",
      "# 97000  등급차이:  0.10403457\n",
      "- 등급:  [0.6764156]\n",
      "# 98000  등급차이:  0.103943944\n",
      "- 등급:  [0.67541224]\n",
      "# 99000  등급차이:  0.10385763\n",
      "- 등급:  [0.67443174]\n",
      "# 100000  등급차이:  0.10377135\n",
      "- 등급:  [0.6734522]\n"
     ]
    }
   ],
   "source": [
    "# 학습을 수행합니다.\n",
    "for step in range(100001):\n",
    "    mae_, hypo_, _ = sess.run([mae, hypothesis, train], feed_dict={X: X_train, Y: y_train})\n",
    "    if step % 1000 == 0:\n",
    "        print(\"#\", step, \" 등급차이: \", mae_)\n",
    "        print(\"- 등급: \", hypo_[0])\n",
    "        \n",
    "# 손실비용 대신 MAE(Mean absolute error) 사용해보기  "
   ]
  },
  {
   "cell_type": "code",
   "execution_count": 55,
   "metadata": {},
   "outputs": [
    {
     "name": "stdout",
     "output_type": "stream",
     "text": [
      "학습된 모델을 저장했습니다.\n"
     ]
    }
   ],
   "source": [
    "# 학습된 모델을 저장합니다.\n",
    "saver = tf.train.Saver()\n",
    "save_path = saver.save(sess, \"./saved.cpkt\")\n",
    "print('학습된 모델을 저장했습니다.')"
   ]
  },
  {
   "cell_type": "code",
   "execution_count": null,
   "metadata": {},
   "outputs": [],
   "source": []
  },
  {
   "cell_type": "code",
   "execution_count": null,
   "metadata": {},
   "outputs": [],
   "source": []
  }
 ],
 "metadata": {
  "kernelspec": {
   "display_name": "Python 3",
   "language": "python",
   "name": "python3"
  },
  "language_info": {
   "codemirror_mode": {
    "name": "ipython",
    "version": 3
   },
   "file_extension": ".py",
   "mimetype": "text/x-python",
   "name": "python",
   "nbconvert_exporter": "python",
   "pygments_lexer": "ipython3",
   "version": "3.7.4"
  }
 },
 "nbformat": 4,
 "nbformat_minor": 4
}
